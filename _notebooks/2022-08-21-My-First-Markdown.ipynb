{
 "cells": [
  {
   "cell_type": "code",
   "execution_count": 2,
   "metadata": {},
   "outputs": [
    {
     "ename": "SyntaxError",
     "evalue": "invalid syntax (3149475717.py, line 1)",
     "output_type": "error",
     "traceback": [
      "\u001b[1;36m  Input \u001b[1;32mIn [2]\u001b[1;36m\u001b[0m\n\u001b[1;33m    --\u001b[0m\n\u001b[1;37m      ^\u001b[0m\n\u001b[1;31mSyntaxError\u001b[0m\u001b[1;31m:\u001b[0m invalid syntax\n"
     ]
    }
   ],
   "source": [
    "--\n",
    "toc: true\n",
    "layout: post\n",
    "description: My first markdown post!\n",
    "categories: [markdown]\n",
    "title: First Markdown Post\n",
    "--\n",
    "# Welcome\n",
    "\n",
    "## Introduction\n",
    "\n",
    "My name is Tanay Patel and I am new to computer science. I hope to learn a lot in this course.\n",
    "\n",
    "## Footnotes\n",
    "Tanay Patel"
   ]
  }
 ],
 "metadata": {
  "kernelspec": {
   "display_name": "Python 3.10.6 64-bit (windows store)",
   "language": "python",
   "name": "python3"
  },
  "language_info": {
   "codemirror_mode": {
    "name": "ipython",
    "version": 3
   },
   "file_extension": ".py",
   "mimetype": "text/x-python",
   "name": "python",
   "nbconvert_exporter": "python",
   "pygments_lexer": "ipython3",
   "version": "3.10.6"
  },
  "orig_nbformat": 4,
  "vscode": {
   "interpreter": {
    "hash": "b35a06ef55c11ab0a390632f01a7b2b25d9004a999e402b88b73954036384060"
   }
  }
 },
 "nbformat": 4,
 "nbformat_minor": 2
}
